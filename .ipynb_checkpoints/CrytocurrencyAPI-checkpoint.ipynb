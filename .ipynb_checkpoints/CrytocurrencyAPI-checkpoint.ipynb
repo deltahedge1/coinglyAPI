{
 "cells": [
  {
   "cell_type": "markdown",
   "metadata": {},
   "source": [
    "##How to use coinigy api to get information\n",
    "http://docs.coinigy.apiary.io/#reference/websocket-api"
   ]
  },
  {
   "cell_type": "code",
   "execution_count": 20,
   "metadata": {
    "collapsed": true
   },
   "outputs": [],
   "source": [
    "import requests\n",
    "import json\n",
    "import datetime\n",
    "import time"
   ]
  },
  {
   "cell_type": "code",
   "execution_count": 4,
   "metadata": {},
   "outputs": [
    {
     "name": "stdout",
     "output_type": "stream",
     "text": [
      "200\n"
     ]
    }
   ],
   "source": [
    "r = requests.get(r\"https://www.cryptocompare.com/api/data/coinlist/\")\n",
    "print(r.status_code)"
   ]
  },
  {
   "cell_type": "code",
   "execution_count": 11,
   "metadata": {},
   "outputs": [
    {
     "name": "stdout",
     "output_type": "stream",
     "text": [
      "{'Id': '7605', 'Url': '/coins/eth/overview', 'ImageUrl': '/media/20646/eth.png', 'Name': 'ETH', 'Symbol': 'ETH', 'CoinName': 'Ethereum ', 'FullName': 'Ethereum  (ETH)', 'Algorithm': 'Ethash', 'ProofType': 'PoW', 'FullyPremined': '0', 'TotalCoinSupply': '0', 'PreMinedValue': 'N/A', 'TotalCoinsFreeFloat': 'N/A', 'SortOrder': '2', 'Sponsored': False}\n"
     ]
    }
   ],
   "source": [
    "d = json.loads(r.text)\n",
    "print(d[\"Data\"][\"ETH\"])"
   ]
  },
  {
   "cell_type": "code",
   "execution_count": 16,
   "metadata": {},
   "outputs": [
    {
     "data": {
      "text/plain": [
       "200"
      ]
     },
     "execution_count": 16,
     "metadata": {},
     "output_type": "execute_result"
    }
   ],
   "source": [
    "r2 = requests.get(r\"https://min-api.cryptocompare.com/data/pricehistorical?fsym=ETH&tsyms=BTC,USD,EUR&ts=1452680400&extraParams=your_app_name\")\n",
    "r2.status_code"
   ]
  },
  {
   "cell_type": "code",
   "execution_count": 18,
   "metadata": {},
   "outputs": [
    {
     "data": {
      "text/plain": [
       "'{\"ETH\":{\"BTC\":0.002616,\"USD\":1.13,\"EUR\":1.04}}'"
      ]
     },
     "execution_count": 18,
     "metadata": {},
     "output_type": "execute_result"
    }
   ],
   "source": [
    "r2.text"
   ]
  },
  {
   "cell_type": "code",
   "execution_count": 41,
   "metadata": {},
   "outputs": [
    {
     "name": "stdout",
     "output_type": "stream",
     "text": [
      "1448888400\n",
      "https://min-api.cryptocompare.com/data/pricehistorical?fsym=ETH&tsyms=BTC,USD,EUR&ts=1448888400&extraParams=your_app_name\n"
     ]
    },
    {
     "data": {
      "text/plain": [
       "200"
      ]
     },
     "execution_count": 41,
     "metadata": {},
     "output_type": "execute_result"
    }
   ],
   "source": [
    "s = \"01/12/2015\"\n",
    "s = time.mktime(datetime.datetime.strptime(s, \"%d/%m/%Y\").timetuple())\n",
    "s = int(s)\n",
    "print(s)\n",
    "url = (r\"https://min-api.cryptocompare.com/data/pricehistorical?fsym=ETH&tsyms=BTC,USD,EUR&ts=%s&extraParams=your_app_name\" %s)\n",
    "print(url)\n",
    "r3 = requests.get(url)\n",
    "r3.status_code"
   ]
  },
  {
   "cell_type": "code",
   "execution_count": 42,
   "metadata": {},
   "outputs": [
    {
     "data": {
      "text/plain": [
       "'{\"ETH\":{\"BTC\":0.002315,\"USD\":0.8752,\"EUR\":0.8299}}'"
      ]
     },
     "execution_count": 42,
     "metadata": {},
     "output_type": "execute_result"
    }
   ],
   "source": [
    "r3.text"
   ]
  }
 ],
 "metadata": {
  "kernelspec": {
   "display_name": "Python 3",
   "language": "python",
   "name": "python3"
  },
  "language_info": {
   "codemirror_mode": {
    "name": "ipython",
    "version": 3
   },
   "file_extension": ".py",
   "mimetype": "text/x-python",
   "name": "python",
   "nbconvert_exporter": "python",
   "pygments_lexer": "ipython3",
   "version": "3.6.2"
  }
 },
 "nbformat": 4,
 "nbformat_minor": 2
}
